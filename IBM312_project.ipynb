{
 "cells": [
  {
   "cell_type": "code",
   "execution_count": 2,
   "id": "572afda4",
   "metadata": {
    "id": "572afda4"
   },
   "outputs": [],
   "source": [
    "# Importing libraries\n",
    "\n",
    "import numpy as np\n",
    "import pandas as pd\n",
    "from sklearn.model_selection import train_test_split\n",
    "from sklearn.decomposition import PCA\n",
    "from sklearn.linear_model import LogisticRegression\n",
    "from sklearn.metrics import accuracy_score,confusion_matrix\n",
    "from sklearn import metrics\n",
    "import matplotlib.pyplot as plt\n",
    "from sklearn.inspection import permutation_importance\n",
    "from sklearn.metrics import precision_recall_curve"
   ]
  },
  {
   "cell_type": "code",
   "execution_count": 3,
   "id": "6b161c11",
   "metadata": {
    "colab": {
     "base_uri": "https://localhost:8080/",
     "height": 380
    },
    "id": "6b161c11",
    "outputId": "2b1f7b0a-85d6-4172-ba31-b22bfcae923a",
    "scrolled": true
   },
   "outputs": [],
   "source": [
    "# Importing and pre-processing data\n",
    "\n",
    "data = pd.read_csv('train.csv')\n",
    "\n",
    "# Dropping irrelevant features\n",
    "\n",
    "useless_features = ['state', 'area_code']\n",
    "data.drop(useless_features, axis = 1, inplace= True)\n",
    "\n",
    "x = data.drop('churn', axis = 1)\n",
    "y = data['churn']\n",
    "x_train, x_test, y_train, y_test = train_test_split(x, y, test_size = 0.2, random_state = 0)\n",
    "\n",
    "# Handling string data - 'yes'/'no'\n",
    "\n",
    "dict = {'yes' : 1, 'no' : 0}\n",
    "\n",
    "x_train['international_plan'] = x_train['international_plan'].replace(dict)\n",
    "x_train['voice_mail_plan'] = x_train['voice_mail_plan'].replace(dict)\n",
    "\n",
    "x_test['international_plan'] = x_test['international_plan'].replace(dict)\n",
    "x_test['voice_mail_plan'] = x_test['voice_mail_plan'].replace(dict)\n"
   ]
  },
  {
   "cell_type": "code",
   "execution_count": 4,
   "id": "c138eef4",
   "metadata": {
    "colab": {
     "base_uri": "https://localhost:8080/",
     "height": 74
    },
    "id": "c138eef4",
    "outputId": "58d07bce-1000-4bb2-a75d-30aa2596b086"
   },
   "outputs": [
    {
     "data": {
      "text/html": [
       "<style>#sk-container-id-1 {color: black;background-color: white;}#sk-container-id-1 pre{padding: 0;}#sk-container-id-1 div.sk-toggleable {background-color: white;}#sk-container-id-1 label.sk-toggleable__label {cursor: pointer;display: block;width: 100%;margin-bottom: 0;padding: 0.3em;box-sizing: border-box;text-align: center;}#sk-container-id-1 label.sk-toggleable__label-arrow:before {content: \"▸\";float: left;margin-right: 0.25em;color: #696969;}#sk-container-id-1 label.sk-toggleable__label-arrow:hover:before {color: black;}#sk-container-id-1 div.sk-estimator:hover label.sk-toggleable__label-arrow:before {color: black;}#sk-container-id-1 div.sk-toggleable__content {max-height: 0;max-width: 0;overflow: hidden;text-align: left;background-color: #f0f8ff;}#sk-container-id-1 div.sk-toggleable__content pre {margin: 0.2em;color: black;border-radius: 0.25em;background-color: #f0f8ff;}#sk-container-id-1 input.sk-toggleable__control:checked~div.sk-toggleable__content {max-height: 200px;max-width: 100%;overflow: auto;}#sk-container-id-1 input.sk-toggleable__control:checked~label.sk-toggleable__label-arrow:before {content: \"▾\";}#sk-container-id-1 div.sk-estimator input.sk-toggleable__control:checked~label.sk-toggleable__label {background-color: #d4ebff;}#sk-container-id-1 div.sk-label input.sk-toggleable__control:checked~label.sk-toggleable__label {background-color: #d4ebff;}#sk-container-id-1 input.sk-hidden--visually {border: 0;clip: rect(1px 1px 1px 1px);clip: rect(1px, 1px, 1px, 1px);height: 1px;margin: -1px;overflow: hidden;padding: 0;position: absolute;width: 1px;}#sk-container-id-1 div.sk-estimator {font-family: monospace;background-color: #f0f8ff;border: 1px dotted black;border-radius: 0.25em;box-sizing: border-box;margin-bottom: 0.5em;}#sk-container-id-1 div.sk-estimator:hover {background-color: #d4ebff;}#sk-container-id-1 div.sk-parallel-item::after {content: \"\";width: 100%;border-bottom: 1px solid gray;flex-grow: 1;}#sk-container-id-1 div.sk-label:hover label.sk-toggleable__label {background-color: #d4ebff;}#sk-container-id-1 div.sk-serial::before {content: \"\";position: absolute;border-left: 1px solid gray;box-sizing: border-box;top: 0;bottom: 0;left: 50%;z-index: 0;}#sk-container-id-1 div.sk-serial {display: flex;flex-direction: column;align-items: center;background-color: white;padding-right: 0.2em;padding-left: 0.2em;position: relative;}#sk-container-id-1 div.sk-item {position: relative;z-index: 1;}#sk-container-id-1 div.sk-parallel {display: flex;align-items: stretch;justify-content: center;background-color: white;position: relative;}#sk-container-id-1 div.sk-item::before, #sk-container-id-1 div.sk-parallel-item::before {content: \"\";position: absolute;border-left: 1px solid gray;box-sizing: border-box;top: 0;bottom: 0;left: 50%;z-index: -1;}#sk-container-id-1 div.sk-parallel-item {display: flex;flex-direction: column;z-index: 1;position: relative;background-color: white;}#sk-container-id-1 div.sk-parallel-item:first-child::after {align-self: flex-end;width: 50%;}#sk-container-id-1 div.sk-parallel-item:last-child::after {align-self: flex-start;width: 50%;}#sk-container-id-1 div.sk-parallel-item:only-child::after {width: 0;}#sk-container-id-1 div.sk-dashed-wrapped {border: 1px dashed gray;margin: 0 0.4em 0.5em 0.4em;box-sizing: border-box;padding-bottom: 0.4em;background-color: white;}#sk-container-id-1 div.sk-label label {font-family: monospace;font-weight: bold;display: inline-block;line-height: 1.2em;}#sk-container-id-1 div.sk-label-container {text-align: center;}#sk-container-id-1 div.sk-container {/* jupyter's `normalize.less` sets `[hidden] { display: none; }` but bootstrap.min.css set `[hidden] { display: none !important; }` so we also need the `!important` here to be able to override the default hidden behavior on the sphinx rendered scikit-learn.org. See: https://github.com/scikit-learn/scikit-learn/issues/21755 */display: inline-block !important;position: relative;}#sk-container-id-1 div.sk-text-repr-fallback {display: none;}</style><div id=\"sk-container-id-1\" class=\"sk-top-container\"><div class=\"sk-text-repr-fallback\"><pre>PCA(n_components=5)</pre><b>In a Jupyter environment, please rerun this cell to show the HTML representation or trust the notebook. <br />On GitHub, the HTML representation is unable to render, please try loading this page with nbviewer.org.</b></div><div class=\"sk-container\" hidden><div class=\"sk-item\"><div class=\"sk-estimator sk-toggleable\"><input class=\"sk-toggleable__control sk-hidden--visually\" id=\"sk-estimator-id-1\" type=\"checkbox\" checked><label for=\"sk-estimator-id-1\" class=\"sk-toggleable__label sk-toggleable__label-arrow\">PCA</label><div class=\"sk-toggleable__content\"><pre>PCA(n_components=5)</pre></div></div></div></div></div>"
      ],
      "text/plain": [
       "PCA(n_components=5)"
      ]
     },
     "execution_count": 4,
     "metadata": {},
     "output_type": "execute_result"
    }
   ],
   "source": [
    "# Training PCA model to reduce the dimensions by 3 times\n",
    "\n",
    "pca = PCA(n_components = 5)\n",
    "pca.fit(x_train)"
   ]
  },
  {
   "cell_type": "code",
   "execution_count": 5,
   "id": "c6d7dfc4",
   "metadata": {
    "id": "c6d7dfc4"
   },
   "outputs": [],
   "source": [
    "# Transforming the training and testing data\n",
    "\n",
    "x_train_reduced = pca.transform(x_train)\n",
    "x_test_reduced = pca.transform(x_test)"
   ]
  },
  {
   "cell_type": "code",
   "execution_count": 6,
   "id": "ae711fb4",
   "metadata": {
    "colab": {
     "base_uri": "https://localhost:8080/"
    },
    "id": "ae711fb4",
    "outputId": "d0f3011b-42ce-4342-9209-9c242e41c3e6"
   },
   "outputs": [
    {
     "data": {
      "text/plain": [
       "array([ 1.00000000e-03,  1.70000000e-02,  1.97647059e-02,  3.41176471e-03,\n",
       "        2.30000000e-02,  6.47058824e-04, -1.17647059e-04,  3.58823529e-03,\n",
       "        1.64705882e-03,  7.64705882e-04,  2.05882353e-03,  5.88235294e-05,\n",
       "        7.64705882e-04,  2.82352941e-03,  2.47058824e-03,  5.29411765e-04,\n",
       "        5.23529412e-03])"
      ]
     },
     "execution_count": 6,
     "metadata": {},
     "output_type": "execute_result"
    }
   ],
   "source": [
    "# Training logistic regression model\n",
    "\n",
    "model = LogisticRegression(max_iter=10000)\n",
    "model.fit(x_train, y_train)\n",
    "\n",
    "# Indicating importance of individual features in classification\n",
    "\n",
    "model_fi = permutation_importance(model, x_train, y_train)\n",
    "model_fi['importances_mean']"
   ]
  },
  {
   "cell_type": "code",
   "execution_count": 7,
   "id": "cd0d956b",
   "metadata": {
    "colab": {
     "base_uri": "https://localhost:8080/"
    },
    "id": "cd0d956b",
    "outputId": "0f5b0c08-afdc-4780-a5a3-567fbf14fbf1"
   },
   "outputs": [
    {
     "name": "stdout",
     "output_type": "stream",
     "text": [
      "Confusion Matrix : \n",
      "[[723  92]\n",
      " [ 12  23]]\n",
      "Accuracy :  0.8776470588235294\n"
     ]
    }
   ],
   "source": [
    "from sklearn.utils.multiclass import type_of_target\n",
    "#Testing the logistic regression model\n",
    "pred = model.predict(x_test)\n",
    "print(\"Confusion Matrix : \")\n",
    "print(confusion_matrix(pred, y_test))\n",
    "print(\"Accuracy : \", accuracy_score(pred, y_test))\n",
    "y_test=np.array(y_test)\n",
    "y_test_binary=[]\n",
    "y_pred_binary=[]\n",
    "for i in range(len(y_test)):\n",
    " if(y_test[i]=='no'):\n",
    "   y_test_binary.append(0)\n",
    " else:\n",
    "    y_test_binary.append(1)\n",
    " if(pred[i]=='no'):\n",
    "   y_pred_binary.append(0)\n",
    " else:\n",
    "    y_pred_binary.append(1)"
   ]
  },
  {
   "cell_type": "code",
   "execution_count": 12,
   "id": "ed35ccb2",
   "metadata": {
    "colab": {
     "base_uri": "https://localhost:8080/",
     "height": 472
    },
    "id": "ed35ccb2",
    "outputId": "848450a0-3d92-41e9-93e6-60b8a5090643",
    "scrolled": true
   },
   "outputs": [
    {
     "data": {
      "image/png": "[encoded data removed]",
      "text/plain": [
       "<Figure size 640x480 with 1 Axes>"
      ]
     },
     "metadata": {},
     "output_type": "display_data"
    }
   ],
   "source": [
    "#precision-recall curve for test data\n",
    "\n",
    "precision, recall, thresholds = precision_recall_curve(y_test_binary, y_pred_binary)\n",
    "plt.fill_between(recall, precision)\n",
    "plt.ylabel(\"Precision\")\n",
    "plt.xlabel(\"Recall\")\n",
    "plt.title(\"Test Precision-Recall curve\");\n"
   ]
  },
  {
   "cell_type": "code",
   "execution_count": null,
   "id": "cb10520a",
   "metadata": {},
   "outputs": [],
   "source": []
  }
 ],
 "metadata": {
  "colab": {
   "provenance": []
  },
  "kernelspec": {
   "display_name": "Python 3 (ipykernel)",
   "language": "python",
   "name": "python3"
  },
  "language_info": {
   "codemirror_mode": {
    "name": "ipython",
    "version": 3
   },
   "file_extension": ".py",
   "mimetype": "text/x-python",
   "name": "python",
   "nbconvert_exporter": "python",
   "pygments_lexer": "ipython3",
   "version": "3.9.2"
  }
 },
 "nbformat": 4,
 "nbformat_minor": 5
}
